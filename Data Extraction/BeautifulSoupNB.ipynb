{
 "cells": [
  {
   "cell_type": "markdown",
   "metadata": {},
   "source": [
    "## Get static site soup"
   ]
  },
  {
   "cell_type": "markdown",
   "metadata": {},
   "source": [
    "### HTML soup"
   ]
  },
  {
   "cell_type": "code",
   "execution_count": null,
   "metadata": {},
   "outputs": [],
   "source": [
    "from bs4 import BeautifulSoup\n",
    "import requests\n",
    "\n",
    "def getsoup(url):\n",
    "    r = requests.get(url)\n",
    "    if r.status_code != 200:\n",
    "        print('Failed to get page. Status Code:', r.status_code)\n",
    "        return None\n",
    "    try:\n",
    "        return BeautifulSoup(r.content, 'lxml')\n",
    "    except Exception as e:\n",
    "        return BeautifulSoup(r.content, 'html.parser')\n",
    "\n",
    "url = \"https://jivraj-18.github.io/tds-jan-2025-mock-roe-1/\"\n",
    "soup = getsoup(url)\n",
    "print(soup.prettify())"
   ]
  },
  {
   "cell_type": "markdown",
   "metadata": {},
   "source": [
    "### XML soup"
   ]
  },
  {
   "cell_type": "code",
   "execution_count": null,
   "metadata": {},
   "outputs": [],
   "source": [
    "def getxmlsoup(xml_fname):\n",
    "    with open(xml_fname, 'r') as f:\n",
    "        xml = f.read()\n",
    "        try:\n",
    "            return BeautifulSoup(xml, 'lxml-xml')\n",
    "        except Exception as e:\n",
    "            return BeautifulSoup(xml, 'xml')\n",
    "\n",
    "xml_fname = \"P1File-1.xml\"\n",
    "xml_soup = getxmlsoup(xml_fname=xml_fname)\n",
    "print(xml_soup.prettify())"
   ]
  },
  {
   "cell_type": "markdown",
   "metadata": {},
   "source": [
    "## Navigating the tree (attribute-based)"
   ]
  },
  {
   "cell_type": "markdown",
   "metadata": {},
   "source": [
    "#### Example tag"
   ]
  },
  {
   "cell_type": "code",
   "execution_count": 26,
   "metadata": {},
   "outputs": [
    {
     "data": {
      "text/plain": [
       "<div class=\"t\">\n",
       "<div class=\"r\">\n",
       "<div class=\"c\">YEAR</div>\n",
       "<div class=\"c\">ST_NAME</div>\n",
       "</div>\n",
       "<div class=\"r\">\n",
       "<div class=\"c\"><a href=\"0UAqFzWs.html\">1955</a></div>\n",
       "<div class=\"c\"><a href=\"0UAqFzWs.html\">ANDHRA PRADESH</a></div>\n",
       "</div>\n",
       "<div class=\"r\">\n",
       "<div class=\"c\"><a href=\"DK4FrUMp.html\">1957</a></div>\n",
       "<div class=\"c\"><a href=\"DK4FrUMp.html\">ANDHRA PRADESH</a></div>\n",
       "</div>\n",
       "<div class=\"r\">\n",
       "<div class=\"c\"><a href=\"48Y3tT3Q.html\">1962</a></div>\n",
       "<div class=\"c\"><a href=\"48Y3tT3Q.html\">ANDHRA PRADESH</a></div>\n",
       "</div>\n",
       "<div class=\"r\">\n",
       "<div class=\"c\"><a href=\"DgAL47D1.html\">1967</a></div>\n",
       "<div class=\"c\"><a href=\"DgAL47D1.html\">ANDHRA PRADESH</a></div>\n",
       "</div>\n",
       "<div class=\"r\">\n",
       "<div class=\"c\"><a href=\"qXIaSyZP.html\">1972</a></div>\n",
       "<div class=\"c\"><a href=\"qXIaSyZP.html\">ANDHRA PRADESH</a></div>\n",
       "</div>\n",
       "<div class=\"r\">\n",
       "<div class=\"c\"><a href=\"aE1pu1lJ.html\">1978</a></div>\n",
       "<div class=\"c\"><a href=\"aE1pu1lJ.html\">ANDHRA PRADESH</a></div>\n",
       "</div>\n",
       "<div class=\"r\">\n",
       "<div class=\"c\"><a href=\"o7XBetF5.html\">1983</a></div>\n",
       "<div class=\"c\"><a href=\"o7XBetF5.html\">ANDHRA PRADESH</a></div>\n",
       "</div>\n",
       "<div class=\"r\">\n",
       "<div class=\"c\"><a href=\"gIRHYH7L.html\">1985</a></div>\n",
       "<div class=\"c\"><a href=\"gIRHYH7L.html\">ANDHRA PRADESH</a></div>\n",
       "</div>\n",
       "<div class=\"r\">\n",
       "<div class=\"c\"><a href=\"KBKxJsll.html\">1989</a></div>\n",
       "<div class=\"c\"><a href=\"KBKxJsll.html\">ANDHRA PRADESH</a></div>\n",
       "</div>\n",
       "<div class=\"r\">\n",
       "<div class=\"c\"><a href=\"LODfU250.html\">1994</a></div>\n",
       "<div class=\"c\"><a href=\"LODfU250.html\">ANDHRA PRADESH</a></div>\n",
       "</div>\n",
       "<div class=\"r\">\n",
       "<div class=\"c\"><a href=\"35HyRrY0.html\">1999</a></div>\n",
       "<div class=\"c\"><a href=\"35HyRrY0.html\">ANDHRA PRADESH</a></div>\n",
       "</div>\n",
       "<div class=\"r\">\n",
       "<div class=\"c\"><a href=\"3K6JBO94.html\">2004</a></div>\n",
       "<div class=\"c\"><a href=\"3K6JBO94.html\">ANDHRA PRADESH</a></div>\n",
       "</div>\n",
       "<div class=\"r\">\n",
       "<div class=\"c\"><a href=\"XfLEN0pT.html\">2009</a></div>\n",
       "<div class=\"c\"><a href=\"XfLEN0pT.html\">ANDHRA PRADESH</a></div>\n",
       "</div>\n",
       "<div class=\"r\">\n",
       "<div class=\"c\"><a href=\"hnXuYgjR.html\">2019</a></div>\n",
       "<div class=\"c\"><a href=\"hnXuYgjR.html\">ANDHRA PRADESH</a></div>\n",
       "</div>\n",
       "<div class=\"r\">\n",
       "<div class=\"c\"><a href=\"cJ4HQbNL.html\">1978</a></div>\n",
       "<div class=\"c\"><a href=\"cJ4HQbNL.html\">ARUNACHAL PRADESH</a></div>\n",
       "</div>\n",
       "<div class=\"r\">\n",
       "<div class=\"c\"><a href=\"Jyw8cb7l.html\">1980</a></div>\n",
       "<div class=\"c\"><a href=\"Jyw8cb7l.html\">ARUNACHAL PRADESH</a></div>\n",
       "</div>\n",
       "<div class=\"r\">\n",
       "<div class=\"c\"><a href=\"hnX6bAgq.html\">1984</a></div>\n",
       "<div class=\"c\"><a href=\"hnX6bAgq.html\">ARUNACHAL PRADESH</a></div>\n",
       "</div>\n",
       "<div class=\"r\">\n",
       "<div class=\"c\"><a href=\"nOvlFcg9.html\">1990</a></div>\n",
       "<div class=\"c\"><a href=\"nOvlFcg9.html\">ARUNACHAL PRADESH</a></div>\n",
       "</div>\n",
       "<div class=\"r\">\n",
       "<div class=\"c\"><a href=\"mwTZ4kP7.html\">1995</a></div>\n",
       "<div class=\"c\"><a href=\"mwTZ4kP7.html\">ARUNACHAL PRADESH</a></div>\n",
       "</div>\n",
       "<div class=\"r\">\n",
       "<div class=\"c\"><a href=\"dP0vpLBk.html\">1999</a></div>\n",
       "<div class=\"c\"><a href=\"dP0vpLBk.html\">ARUNACHAL PRADESH</a></div>\n",
       "</div>\n",
       "<div class=\"r\">\n",
       "<div class=\"c\"><a href=\"DzJFtwZp.html\">2004</a></div>\n",
       "<div class=\"c\"><a href=\"DzJFtwZp.html\">ARUNACHAL PRADESH</a></div>\n",
       "</div>\n",
       "<div class=\"r\">\n",
       "<div class=\"c\"><a href=\"IaTucro7.html\">2009</a></div>\n",
       "<div class=\"c\"><a href=\"IaTucro7.html\">ARUNACHAL PRADESH</a></div>\n",
       "</div>\n",
       "<div class=\"r\">\n",
       "<div class=\"c\"><a href=\"vrw6NMSy.html\">2019</a></div>\n",
       "<div class=\"c\"><a href=\"vrw6NMSy.html\">ARUNACHAL PRADESH</a></div>\n",
       "</div>\n",
       "<div class=\"r\">\n",
       "<div class=\"c\"><a href=\"zOaluoNx.html\">1951</a></div>\n",
       "<div class=\"c\"><a href=\"zOaluoNx.html\">ASSAM</a></div>\n",
       "</div>\n",
       "<div class=\"r\">\n",
       "<div class=\"c\"><a href=\"2JzyRzPc.html\">1957</a></div>\n",
       "<div class=\"c\"><a href=\"2JzyRzPc.html\">ASSAM</a></div>\n",
       "</div>\n",
       "<div class=\"r\">\n",
       "<div class=\"c\"><a href=\"BqjGEIU2.html\">1962</a></div>\n",
       "<div class=\"c\"><a href=\"BqjGEIU2.html\">ASSAM</a></div>\n",
       "</div>\n",
       "<div class=\"r\">\n",
       "<div class=\"c\"><a href=\"EtCY2Yl9.html\">1967</a></div>\n",
       "<div class=\"c\"><a href=\"EtCY2Yl9.html\">ASSAM</a></div>\n",
       "</div>\n",
       "<div class=\"r\">\n",
       "<div class=\"c\"><a href=\"NfS9yQtn.html\">1972</a></div>\n",
       "<div class=\"c\"><a href=\"NfS9yQtn.html\">ASSAM</a></div>\n",
       "</div>\n",
       "<div class=\"r\">\n",
       "<div class=\"c\"><a href=\"SaZGghO2.html\">1978</a></div>\n",
       "<div class=\"c\"><a href=\"SaZGghO2.html\">ASSAM</a></div>\n",
       "</div>\n",
       "<div class=\"r\">\n",
       "<div class=\"c\"><a href=\"r8g0yfrC.html\">1983</a></div>\n",
       "<div class=\"c\"><a href=\"r8g0yfrC.html\">ASSAM</a></div>\n",
       "</div>\n",
       "<div class=\"r\">\n",
       "<div class=\"c\"><a href=\"X1iGOv2r.html\">1985</a></div>\n",
       "<div class=\"c\"><a href=\"X1iGOv2r.html\">ASSAM</a></div>\n",
       "</div>\n",
       "<div class=\"r\">\n",
       "<div class=\"c\"><a href=\"bcQI664c.html\">1991</a></div>\n",
       "<div class=\"c\"><a href=\"bcQI664c.html\">ASSAM</a></div>\n",
       "</div>\n",
       "<div class=\"r\">\n",
       "<div class=\"c\"><a href=\"UROS3NxH.html\">1996</a></div>\n",
       "<div class=\"c\"><a href=\"UROS3NxH.html\">ASSAM</a></div>\n",
       "</div>\n",
       "<div class=\"r\">\n",
       "<div class=\"c\"><a href=\"mKajuWSu.html\">2001</a></div>\n",
       "<div class=\"c\"><a href=\"mKajuWSu.html\">ASSAM</a></div>\n",
       "</div>\n",
       "<div class=\"r\">\n",
       "<div class=\"c\"><a href=\"Mck8ryIs.html\">2006</a></div>\n",
       "<div class=\"c\"><a href=\"Mck8ryIs.html\">ASSAM</a></div>\n",
       "</div>\n",
       "<div class=\"r\">\n",
       "<div class=\"c\"><a href=\"DoclGeyu.html\">2011</a></div>\n",
       "<div class=\"c\"><a href=\"DoclGeyu.html\">ASSAM</a></div>\n",
       "</div>\n",
       "<div class=\"r\">\n",
       "<div class=\"c\"><a href=\"zg4D08vD.html\">2016</a></div>\n",
       "<div class=\"c\"><a href=\"zg4D08vD.html\">ASSAM</a></div>\n",
       "</div>\n",
       "<div class=\"r\">\n",
       "<div class=\"c\"><a href=\"RAsT35Mx.html\">2021</a></div>\n",
       "<div class=\"c\"><a href=\"RAsT35Mx.html\">ASSAM</a></div>\n",
       "</div>\n",
       "<div class=\"r\">\n",
       "<div class=\"c\"><a href=\"8NefUday.html\">1951</a></div>\n",
       "<div class=\"c\"><a href=\"8NefUday.html\">BIHAR</a></div>\n",
       "</div>\n",
       "<div class=\"r\">\n",
       "<div class=\"c\"><a href=\"GBEKQAw9.html\">1957</a></div>\n",
       "<div class=\"c\"><a href=\"GBEKQAw9.html\">BIHAR</a></div>\n",
       "</div>\n",
       "</div>"
      ]
     },
     "execution_count": 26,
     "metadata": {},
     "output_type": "execute_result"
    }
   ],
   "source": [
    "div_tag = soup.div\n",
    "div_tag #returns the div_tag"
   ]
  },
  {
   "cell_type": "markdown",
   "metadata": {},
   "source": [
    "#### .contents and .children"
   ]
  },
  {
   "cell_type": "code",
   "execution_count": null,
   "metadata": {},
   "outputs": [],
   "source": [
    "div_tag.contents #loads all direct children into memory at once"
   ]
  },
  {
   "cell_type": "code",
   "execution_count": null,
   "metadata": {},
   "outputs": [],
   "source": [
    "for child in div_tag.children: # returns an iterator over all direct children, memory efficient\n",
    "    print(child.name)"
   ]
  },
  {
   "cell_type": "markdown",
   "metadata": {},
   "source": [
    "#### .descendants"
   ]
  },
  {
   "cell_type": "code",
   "execution_count": null,
   "metadata": {},
   "outputs": [],
   "source": [
    "for desc in div_tag.descendants: #returns an iterator over all children and their children recursively\n",
    "    print(desc.name)"
   ]
  },
  {
   "cell_type": "markdown",
   "metadata": {},
   "source": [
    "#### .parent and .parents"
   ]
  },
  {
   "cell_type": "code",
   "execution_count": null,
   "metadata": {},
   "outputs": [],
   "source": [
    "div_tag.parent #returns the immediate parent of the tag\n",
    "div_tag.parents #returns an iterator over a list of all parents of the tag"
   ]
  },
  {
   "cell_type": "markdown",
   "metadata": {},
   "source": [
    "#### Siblings"
   ]
  },
  {
   "cell_type": "code",
   "execution_count": null,
   "metadata": {},
   "outputs": [],
   "source": [
    "div_tag.next_sibling #returns the next sibling of the tag\n",
    "div_tag.previous_sibling #returns the previous sibling of the tag\n",
    "\n",
    "div_tag.next_siblings #returns an iterator over all next siblings of the tag\n",
    "div_tag.previous_siblings #returns an iterator over all previous siblings of the tag"
   ]
  },
  {
   "cell_type": "code",
   "execution_count": null,
   "metadata": {},
   "outputs": [],
   "source": [
    "div_tag.next_element #returns the next element of the tag\n",
    "div_tag.next_elements #returns an iterator over all next elements of the tag\n",
    "\n",
    "div_tag.previous_element #returns the previous element of the tag\n",
    "div_tag.previous_elements #returns an iterator over all previous elements of the tag"
   ]
  },
  {
   "cell_type": "markdown",
   "metadata": {},
   "source": [
    "## Searching the tree (method-based)"
   ]
  },
  {
   "cell_type": "code",
   "execution_count": null,
   "metadata": {},
   "outputs": [],
   "source": [
    "import re\n",
    "name = '' // re.compile('')\n",
    "attrs = {\n",
    "\n",
    "}\n",
    "recursive = False\n",
    "string = '' or re.compile('')\n",
    "limit = None\n",
    "\n",
    "# search by tag\n",
    "# kwargs are evaluated as html attributes to be matched. Regex is allowed here too\n",
    "div_tag.find_all(name, attrs, recursive, string, limit, **kwargs)\n",
    "div_tag.find(name, attrs, recursive, string, **kwargs)\n",
    "\n",
    "\n",
    "# finding parents\n",
    "div_tag.find_parents(name, attrs, string, limit, **kwargs)\n",
    "div_tag.find_parent(name, attrs, string, **kwargs)\n",
    "\n",
    "# finding next siblings\n",
    "div_tag.find_next_siblings(name, attrs, string, limit, **kwargs)\n",
    "div_tag.find_next_sibling(name, attrs, string, **kwargs)\n",
    "\n",
    "# finding previous siblings\n",
    "div_tag.find_previous_siblings(name, attrs, string, limit, **kwargs)\n",
    "div_tag.find_previous_sibling(name, attrs, string, **kwargs)\n",
    "\n",
    "\n",
    "# finding all after current\n",
    "div_tag.find_all_next(name, attrs, string, limit, **kwargs)\n",
    "div_tag.find_next(name, attrs, string, **kwargs)\n",
    "\n",
    "# finding all before current        \n",
    "div_tag.find_all_previous(name, attrs, string, limit, **kwargs)\n",
    "div_tag.find_previous(name, attrs, string, **kwargs)"
   ]
  },
  {
   "cell_type": "markdown",
   "metadata": {},
   "source": [
    "## Searching using css selector"
   ]
  },
  {
   "cell_type": "code",
   "execution_count": null,
   "metadata": {},
   "outputs": [],
   "source": [
    "# finding using css selector\n",
    "selector = 'div'\n",
    "limit = None\n",
    "kwargs = {}\n",
    "div_tag.select(selector, limit, **kwargs)"
   ]
  }
 ],
 "metadata": {
  "kernelspec": {
   "display_name": ".venv",
   "language": "python",
   "name": "python3"
  },
  "language_info": {
   "codemirror_mode": {
    "name": "ipython",
    "version": 3
   },
   "file_extension": ".py",
   "mimetype": "text/x-python",
   "name": "python",
   "nbconvert_exporter": "python",
   "pygments_lexer": "ipython3",
   "version": "3.12.0"
  }
 },
 "nbformat": 4,
 "nbformat_minor": 2
}
